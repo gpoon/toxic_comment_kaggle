{
 "cells": [
  {
   "cell_type": "markdown",
   "metadata": {},
   "source": [
    "Following the Baselines and Bigrams: Simple, Good Sentiment and Topic Classification paper\n",
    "Specifically trying MNB and NBSVM\n",
    "https://www.aclweb.org/anthology/P12-2018"
   ]
  },
  {
   "cell_type": "code",
   "execution_count": 2,
   "metadata": {},
   "outputs": [],
   "source": [
    "import matplotlib.pyplot as plt\n",
    "import numpy as np\n",
    "import pandas as pd\n",
    "from sklearn.feature_extraction.text import CountVectorizer, TfidfVectorizer\n",
    "from sklearn.linear_model import LogisticRegression\n",
    "from sklearn.metrics import confusion_matrix, log_loss\n",
    "from sklearn.model_selection import GridSearchCV, train_test_split\n",
    "import spacy\n",
    "import time\n",
    "nlp = spacy.load('en')\n",
    "%matplotlib inline"
   ]
  },
  {
   "cell_type": "code",
   "execution_count": 5,
   "metadata": {},
   "outputs": [],
   "source": [
    "df = pd.read_csv('train.csv')\n",
    "X_train, X_test, y_train, y_test = train_test_split(df[['comment_text']],\n",
    "                                                    df.drop(columns=['id', 'comment_text']),\n",
    "                                                    test_size=0.2)\n",
    "classes = ['toxic', 'severe_toxic', 'obscene', 'threat', 'insult', 'identity_hate']"
   ]
  },
  {
   "cell_type": "code",
   "execution_count": 6,
   "metadata": {},
   "outputs": [],
   "source": [
    "nlp.vocab[u'you'].is_stop = False"
   ]
  },
  {
   "cell_type": "code",
   "execution_count": 7,
   "metadata": {},
   "outputs": [],
   "source": [
    "def tokenize(s):\n",
    "    tokens = nlp(unicode(s))\n",
    "    return [t.lemma_ if t.lemma_ != u'-PRON-' else t.text for t in tokens if not t.is_stop and not t.is_space and not t.is_punct]"
   ]
  },
  {
   "cell_type": "code",
   "execution_count": 8,
   "metadata": {},
   "outputs": [],
   "source": [
    "tfidf_vec = TfidfVectorizer(strip_accents='unicode', tokenizer=tokenize, ngram_range=(1,2),\n",
    "                            max_df=0.9, min_df=3, sublinear_tf=True)"
   ]
  },
  {
   "cell_type": "code",
   "execution_count": 9,
   "metadata": {},
   "outputs": [],
   "source": [
    "X_train_tfidf = tfidf_vec.fit_transform(X_train.comment_text)\n",
    "X_test_tfidf = tfidf_vec.transform(X_test.comment_text)"
   ]
  },
  {
   "cell_type": "code",
   "execution_count": 10,
   "metadata": {},
   "outputs": [],
   "source": [
    "def get_r(X, y_pos, y_neg, alpha=1.):\n",
    "    p = X[y_pos].sum(0) + alpha\n",
    "    q = X[y_neg].sum(0) + alpha\n",
    "    \n",
    "    p /= sum(p) + alpha\n",
    "    q /= sum(q) + alpha\n",
    "    \n",
    "    return np.log(p, q).A1"
   ]
  },
  {
   "cell_type": "code",
   "execution_count": 11,
   "metadata": {},
   "outputs": [],
   "source": [
    "lr = LogisticRegression()"
   ]
  },
  {
   "cell_type": "code",
   "execution_count": 13,
   "metadata": {},
   "outputs": [],
   "source": [
    "search_params = {\n",
    "    'tol': [1e-3, 1e-4],\n",
    "    'C': [1., 4., 8.]\n",
    "}"
   ]
  },
  {
   "cell_type": "code",
   "execution_count": 14,
   "metadata": {},
   "outputs": [
    {
     "name": "stdout",
     "output_type": "stream",
     "text": [
      "Training toxic\n",
      "Took 89.8988058567 seconds\n",
      "Training severe_toxic\n",
      "Took 96.6403999329 seconds\n",
      "Training obscene\n",
      "Took 82.8631799221 seconds\n",
      "Training threat\n",
      "Took 83.1969339848 seconds\n",
      "Training insult\n",
      "Took 92.8038561344 seconds\n",
      "Training identity_hate\n",
      "Took 93.2877600193 seconds\n"
     ]
    }
   ],
   "source": [
    "best_params = {}\n",
    "best_estimators = {}\n",
    "rs = {}\n",
    "best_score = {}\n",
    "test_score = {}\n",
    "for c in classes:\n",
    "    print 'Training {}'.format(c)\n",
    "    t = time.time()\n",
    "    y_pos = y_train[y_train[c] == 1][c].values\n",
    "    y_neg = y_train[y_train[c] == 0][c].values\n",
    "    r = get_r(X_train_tfidf, y_pos, y_neg)\n",
    "    clf = GridSearchCV(lr, search_params, scoring='neg_log_loss', cv=10)\n",
    "    clf.fit(X_train_tfidf.multiply(r), y_train[c].values)\n",
    "    best_params[c] = clf.best_params_\n",
    "    best_estimators[c] = clf.best_estimator_\n",
    "    rs[c] = r\n",
    "    best_score[c] = clf.best_score_\n",
    "    test_score[c] = log_loss(y_test[c].values, clf.best_estimator_.predict_proba(X_test_tfidf.multiply(r))[:,1])\n",
    "    print 'Took {} seconds'.format(time.time() - t)"
   ]
  },
  {
   "cell_type": "code",
   "execution_count": 15,
   "metadata": {},
   "outputs": [
    {
     "name": "stdout",
     "output_type": "stream",
     "text": [
      "Mean Validation score: -0.0549391238363\n",
      "Mean Test score: 0.051522885159\n"
     ]
    }
   ],
   "source": [
    "print 'Mean Validation score: {}'.format(np.mean(best_score.values()))\n",
    "print 'Mean Test score: {}'.format(np.mean(test_score.values()))"
   ]
  },
  {
   "cell_type": "code",
   "execution_count": 16,
   "metadata": {},
   "outputs": [
    {
     "name": "stdout",
     "output_type": "stream",
     "text": [
      "Best parameters by Class:\n",
      "toxic {'C': 8.0, 'tol': 0.0001}\n",
      "Confusion matrix\n",
      "[[17243   144]\n",
      " [  616  1168]]\n",
      "severe_toxic {'C': 8.0, 'tol': 0.0001}\n",
      "Confusion matrix\n",
      "[[18929    39]\n",
      " [  153    50]]\n",
      "obscene {'C': 8.0, 'tol': 0.001}\n",
      "Confusion matrix\n",
      "[[18070    75]\n",
      " [  347   679]]\n",
      "threat {'C': 8.0, 'tol': 0.001}\n",
      "Confusion matrix\n",
      "[[19112     6]\n",
      " [   40    13]]\n",
      "insult {'C': 8.0, 'tol': 0.001}\n",
      "Confusion matrix\n",
      "[[18108   126]\n",
      " [  419   518]]\n",
      "identity_hate {'C': 8.0, 'tol': 0.001}\n",
      "Confusion matrix\n",
      "[[19006    12]\n",
      " [  121    32]]\n"
     ]
    }
   ],
   "source": [
    "print 'Best parameters by Class:'\n",
    "for c in classes:\n",
    "    print c, best_params[c]\n",
    "    print 'Confusion matrix'\n",
    "    print confusion_matrix(y_test[c], [1 if x > 0.5 else 0 for x in best_estimators[c].predict_proba(X_test_tfidf.multiply(rs[c]))[:,1]])"
   ]
  },
  {
   "cell_type": "markdown",
   "metadata": {},
   "source": [
    "False Negative rate is really high likely due to severe class imbalance.\n",
    "Try using scoring based on Recall (TP / FN + TP) to lower this specific problem."
   ]
  },
  {
   "cell_type": "code",
   "execution_count": 21,
   "metadata": {},
   "outputs": [],
   "source": [
    "from sklearn.metrics import recall_score"
   ]
  },
  {
   "cell_type": "code",
   "execution_count": 27,
   "metadata": {},
   "outputs": [],
   "source": [
    "recall_search_params = {\n",
    "    'C': [8.],\n",
    "    'class_weight': [None, 'balanced']\n",
    "}"
   ]
  },
  {
   "cell_type": "code",
   "execution_count": 28,
   "metadata": {},
   "outputs": [
    {
     "name": "stdout",
     "output_type": "stream",
     "text": [
      "Training toxic\n",
      "Took 52.8287889957 seconds\n",
      "Training severe_toxic\n",
      "Took 49.6430139542 seconds\n",
      "Training obscene\n",
      "Took 45.3084440231 seconds\n",
      "Training threat\n",
      "Took 44.3171460629 seconds\n",
      "Training insult\n",
      "Took 49.5966539383 seconds\n",
      "Training identity_hate\n",
      "Took 50.8987498283 seconds\n"
     ]
    }
   ],
   "source": [
    "recall_params = {}\n",
    "recall_estimators = {}\n",
    "recall_rs = {}\n",
    "best_recall_score = {}\n",
    "recall_test_score = {}\n",
    "for c in classes:\n",
    "    print 'Training {}'.format(c)\n",
    "    t = time.time()\n",
    "    y_pos = y_train[y_train[c] == 1][c].values\n",
    "    y_neg = y_train[y_train[c] == 0][c].values\n",
    "    r = get_r(X_train_tfidf, y_pos, y_neg)\n",
    "    clf = GridSearchCV(lr, recall_search_params, scoring='recall', cv=10)\n",
    "    clf.fit(X_train_tfidf.multiply(r), y_train[c].values)\n",
    "    recall_params[c] = clf.best_params_\n",
    "    recall_estimators[c] = clf.best_estimator_\n",
    "    recall_rs[c] = r\n",
    "    best_recall_score[c] = clf.best_score_\n",
    "    recall_test_score[c] = recall_score(y_test[c].values, [1 if p > 0.5 else 0 for p in clf.best_estimator_.predict_proba(X_test_tfidf.multiply(r))[:,1]])\n",
    "    print 'Took {} seconds'.format(time.time() - t)"
   ]
  },
  {
   "cell_type": "code",
   "execution_count": 29,
   "metadata": {},
   "outputs": [
    {
     "name": "stdout",
     "output_type": "stream",
     "text": [
      "Mean Validation score: 0.702062123202\n",
      "Mean Test score: 0.755434283385\n"
     ]
    }
   ],
   "source": [
    "print 'Mean Validation score: {}'.format(np.mean(best_recall_score.values()))\n",
    "print 'Mean Test score: {}'.format(np.mean(recall_test_score.values()))"
   ]
  },
  {
   "cell_type": "code",
   "execution_count": 30,
   "metadata": {},
   "outputs": [
    {
     "name": "stdout",
     "output_type": "stream",
     "text": [
      "Best parameters by Class:\n",
      "toxic {'C': 8.0, 'class_weight': 'balanced'}\n",
      "Confusion matrix\n",
      "[[16796   591]\n",
      " [  299  1485]]\n",
      "severe_toxic {'C': 8.0, 'class_weight': 'balanced'}\n",
      "Confusion matrix\n",
      "[[18669   299]\n",
      " [   61   142]]\n",
      "obscene {'C': 8.0, 'class_weight': 'balanced'}\n",
      "Confusion matrix\n",
      "[[17864   281]\n",
      " [  169   857]]\n",
      "threat {'C': 8.0, 'class_weight': 'balanced'}\n",
      "Confusion matrix\n",
      "[[19045    73]\n",
      " [   17    36]]\n",
      "insult {'C': 8.0, 'class_weight': 'balanced'}\n",
      "Confusion matrix\n",
      "[[17750   484]\n",
      " [  163   774]]\n",
      "identity_hate {'C': 8.0, 'class_weight': 'balanced'}\n",
      "Confusion matrix\n",
      "[[18810   208]\n",
      " [   52   101]]\n"
     ]
    }
   ],
   "source": [
    "print 'Best parameters by Class:'\n",
    "for c in classes:\n",
    "    print c, recall_params[c]\n",
    "    print 'Confusion matrix'\n",
    "    print confusion_matrix(y_test[c], [1 if x > 0.5 else 0 for x in recall_estimators[c].predict_proba(X_test_tfidf.multiply(rs[c]))[:,1]])"
   ]
  },
  {
   "cell_type": "code",
   "execution_count": 79,
   "metadata": {},
   "outputs": [],
   "source": [
    "df_train_prob = pd.DataFrame(np.array([best_estimators[c].predict_proba(X_train_tfidf.multiply(rs[c]))[:,1],\n",
    "                                       recall_estimators[c].predict_proba(X_train_tfidf.multiply(rs[c]))[:,1],\n",
    "                                       y_train[c]]).T,\n",
    "                            columns=['unbalanced', 'balanced', 'actual'])"
   ]
  },
  {
   "cell_type": "code",
   "execution_count": 89,
   "metadata": {
    "scrolled": true
   },
   "outputs": [
    {
     "data": {
      "image/png": "[encoded data removed]",
      "text/plain": [
       "<matplotlib.figure.Figure at 0x7f1a6c2e7f10>"
      ]
     },
     "metadata": {},
     "output_type": "display_data"
    }
   ],
   "source": [
    "plt.scatter(df_train_prob[df_train_prob.actual == 1].unbalanced,\n",
    "            df_train_prob[df_train_prob.actual == 1].balanced,\n",
    "            color='red', label=c, alpha=0.5, s=1)\n",
    "plt.scatter(df_train_prob[df_train_prob.actual == 0].unbalanced,\n",
    "            df_train_prob[df_train_prob.actual == 0].balanced,\n",
    "            color='blue', label='negative', alpha=0.5, s=1)\n",
    "plt.xlabel('Unbalanced Prob')\n",
    "plt.ylabel('Balanced Prob')\n",
    "plt.title('Probabilities of Train set')\n",
    "plt.legend(loc=4, markerscale=4)\n",
    "plt.show()"
   ]
  },
  {
   "cell_type": "markdown",
   "metadata": {},
   "source": [
    "Overfitting"
   ]
  },
  {
   "cell_type": "code",
   "execution_count": 85,
   "metadata": {},
   "outputs": [],
   "source": [
    "df_test_prob = pd.DataFrame(np.array([best_estimators[c].predict_proba(X_test_tfidf.multiply(rs[c]))[:,1],\n",
    "                                      recall_estimators[c].predict_proba(X_test_tfidf.multiply(rs[c]))[:,1],\n",
    "                                      y_test[c]]).T,\n",
    "                            columns=['unbalanced', 'balanced', 'actual'])"
   ]
  },
  {
   "cell_type": "code",
   "execution_count": 88,
   "metadata": {
    "scrolled": false
   },
   "outputs": [
    {
     "name": "stderr",
     "output_type": "stream",
     "text": [
      "/home/gabriel/.virtualenvs/toxic_classification_kaggle/lib/python2.7/site-packages/ipykernel_launcher.py:1: UserWarning: Boolean Series key will be reindexed to match DataFrame index.\n",
      "  \"\"\"Entry point for launching an IPython kernel.\n",
      "/home/gabriel/.virtualenvs/toxic_classification_kaggle/lib/python2.7/site-packages/ipykernel_launcher.py:2: UserWarning: Boolean Series key will be reindexed to match DataFrame index.\n",
      "  \n",
      "/home/gabriel/.virtualenvs/toxic_classification_kaggle/lib/python2.7/site-packages/ipykernel_launcher.py:4: UserWarning: Boolean Series key will be reindexed to match DataFrame index.\n",
      "  after removing the cwd from sys.path.\n",
      "/home/gabriel/.virtualenvs/toxic_classification_kaggle/lib/python2.7/site-packages/ipykernel_launcher.py:5: UserWarning: Boolean Series key will be reindexed to match DataFrame index.\n",
      "  \"\"\"\n"
     ]
    },
    {
     "data": {
      "image/png": "[encoded data removed]",
      "text/plain": [
       "<matplotlib.figure.Figure at 0x7f1a6c073450>"
      ]
     },
     "metadata": {},
     "output_type": "display_data"
    }
   ],
   "source": [
    "plt.scatter(df_test_prob[df_train_prob.actual == 1].unbalanced,\n",
    "            df_test_prob[df_train_prob.actual == 1].balanced,\n",
    "            color='red', label=c, alpha=0.5, s=1)\n",
    "plt.scatter(df_test_prob[df_train_prob.actual == 0].unbalanced,\n",
    "            df_test_prob[df_train_prob.actual == 0].balanced,\n",
    "            color='blue', label='negative', alpha=0.5, s=1)\n",
    "plt.xlabel('Unbalanced Prob')\n",
    "plt.ylabel('Balanced Prob')\n",
    "plt.title('Probabilities of Test set')\n",
    "plt.legend(loc=4, markerscale=4)\n",
    "plt.show()"
   ]
  },
  {
   "cell_type": "markdown",
   "metadata": {},
   "source": [
    "## Output for submission"
   ]
  },
  {
   "cell_type": "code",
   "execution_count": 91,
   "metadata": {},
   "outputs": [],
   "source": [
    "tfidf_vec_submission = TfidfVectorizer(strip_accents='unicode', tokenizer=tokenize, ngram_range=(1,2),\n",
    "                            max_df=0.9, min_df=3, sublinear_tf=True)"
   ]
  },
  {
   "cell_type": "code",
   "execution_count": 93,
   "metadata": {},
   "outputs": [],
   "source": [
    "X = tfidf_vec_submission.fit_transform(df.comment_text)\n",
    "y = df.drop(columns=['id', 'comment_text'])"
   ]
  },
  {
   "cell_type": "code",
   "execution_count": 94,
   "metadata": {},
   "outputs": [],
   "source": [
    "df_test = pd.read_csv('test.csv')"
   ]
  },
  {
   "cell_type": "code",
   "execution_count": 98,
   "metadata": {},
   "outputs": [],
   "source": [
    "df_test.comment_text.fillna('no text', inplace=True)"
   ]
  },
  {
   "cell_type": "code",
   "execution_count": 100,
   "metadata": {},
   "outputs": [],
   "source": [
    "X_sub = tfidf_vec_submission.transform(df_test.comment_text)"
   ]
  },
  {
   "cell_type": "code",
   "execution_count": 103,
   "metadata": {},
   "outputs": [],
   "source": [
    "test_pred = np.zeros((len(df_test), len(classes)))\n",
    "for i, c in enumerate(classes):\n",
    "    lr = LogisticRegression(**best_params[c])\n",
    "    y_pos = y[y[c] == 1][c].values\n",
    "    y_neg = y[y[c] == 0][c].values\n",
    "    r = get_r(X, y_pos, y_neg)\n",
    "    lr.fit(X.multiply(r), y[c].values)\n",
    "    test_pred[:,i] = lr.predict_proba(X_sub.multiply(r))[:,1]"
   ]
  },
  {
   "cell_type": "code",
   "execution_count": 104,
   "metadata": {},
   "outputs": [],
   "source": [
    "df_sub = pd.concat([df_test.drop(columns=['comment_text']), pd.DataFrame(test_pred, columns = classes)], axis=1)\n",
    "df_sub.to_csv('nblr_submission.csv', index=False)"
   ]
  },
  {
   "cell_type": "markdown",
   "metadata": {},
   "source": [
    "Got a 0.053 on the test set, which is not bad. Looked at some other submissions using similar methods and it looks like doing TFIDF on characters may have better performance."
   ]
  }
 ],
 "metadata": {
  "kernelspec": {
   "display_name": "Python 2",
   "language": "python",
   "name": "python2"
  },
  "language_info": {
   "codemirror_mode": {
    "name": "ipython",
    "version": 2
   },
   "file_extension": ".py",
   "mimetype": "text/x-python",
   "name": "python",
   "nbconvert_exporter": "python",
   "pygments_lexer": "ipython2",
   "version": "2.7.12"
  }
 },
 "nbformat": 4,
 "nbformat_minor": 2
}
