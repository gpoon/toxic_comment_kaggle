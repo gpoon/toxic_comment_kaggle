{
 "cells": [
  {
   "cell_type": "markdown",
   "metadata": {},
   "source": [
    "Following the Baselines and Bigrams: Simple, Good Sentiment and Topic Classification paper\n",
    "Specifically trying MNB and NBSVM\n",
    "https://www.aclweb.org/anthology/P12-2018"
   ]
  },
  {
   "cell_type": "code",
   "execution_count": 1,
   "metadata": {},
   "outputs": [],
   "source": [
    "import numpy as np\n",
    "import pandas as pd\n",
    "from sklearn.feature_extraction.text import CountVectorizer, TfidfVectorizer\n",
    "from sklearn.linear_model import LogisticRegression\n",
    "from sklearn.metrics import confusion_matrix, log_loss\n",
    "from sklearn.model_selection import GridSearchCV, train_test_split\n",
    "import spacy\n",
    "import time\n",
    "nlp = spacy.load('en')"
   ]
  },
  {
   "cell_type": "code",
   "execution_count": 3,
   "metadata": {},
   "outputs": [],
   "source": [
    "df = pd.read_csv('train.csv')\n",
    "X_train, X_test, y_train, y_test = train_test_split(df[['comment_text']],\n",
    "                                                    df.drop(columns=['id', 'comment_text']),\n",
    "                                                    test_size=0.2)\n",
    "classes = ['toxic', 'severe_toxic', 'obscene', 'threat', 'insult', 'identity_hate']"
   ]
  },
  {
   "cell_type": "code",
   "execution_count": 4,
   "metadata": {},
   "outputs": [],
   "source": [
    "nlp.vocab[u'you'].is_stop = False"
   ]
  },
  {
   "cell_type": "code",
   "execution_count": 5,
   "metadata": {},
   "outputs": [],
   "source": [
    "def tokenize(s):\n",
    "    tokens = nlp(unicode(s))\n",
    "    return [t.lemma_ if t.lemma_ != u'-PRON-' else t.text for t in tokens if not t.is_stop and not t.is_space and not t.is_punct]"
   ]
  },
  {
   "cell_type": "raw",
   "metadata": {
    "collapsed": true
   },
   "source": [
    "import re\n",
    "re_tok = re.compile('([{string.punctuation}“”¨«»®´·º½¾¿¡§£₤‘’])')\n",
    "def tokenize(s):\n",
    "    return re_tok.sub(r' \\1 ', s).split()"
   ]
  },
  {
   "cell_type": "code",
   "execution_count": 6,
   "metadata": {},
   "outputs": [],
   "source": [
    "tfidf_vec = TfidfVectorizer(strip_accents='unicode', tokenizer=tokenize, ngram_range=(1,2),\n",
    "                            max_df=0.9, min_df=3, sublinear_tf=True)"
   ]
  },
  {
   "cell_type": "code",
   "execution_count": null,
   "metadata": {},
   "outputs": [],
   "source": [
    "X_train_tfidf = tfidf_vec.fit_transform(X_train.comment_text)\n",
    "X_test_tfidf = tfidf_vec.transform(X_test.comment_text)"
   ]
  },
  {
   "cell_type": "code",
   "execution_count": null,
   "metadata": {},
   "outputs": [],
   "source": [
    "def get_r(X, y_pos, y_neg, alpha=1.):\n",
    "    p = X[y_pos].sum(0) + alpha\n",
    "    q = X[y_neg].sum(0) + alpha\n",
    "    \n",
    "    p /= sum(p) + alpha\n",
    "    q /= sum(q) + alpha\n",
    "    \n",
    "    return np.log(p, q).A1"
   ]
  },
  {
   "cell_type": "code",
   "execution_count": null,
   "metadata": {},
   "outputs": [],
   "source": [
    "lr = LogisticRegression()"
   ]
  },
  {
   "cell_type": "code",
   "execution_count": null,
   "metadata": {},
   "outputs": [],
   "source": [
    "search_params = {\n",
    "    'dual': [True, False],\n",
    "    'tol': [1e-3, 1e-4, 1e-5],\n",
    "    'C': [1., 4., 8.],\n",
    "    'class_weight': [None, 'balanced']\n",
    "}"
   ]
  },
  {
   "cell_type": "code",
   "execution_count": null,
   "metadata": {
    "scrolled": true
   },
   "outputs": [],
   "source": [
    "grid_search = GridSearchCV(lr, search_params, scoring='neg_log_loss', cv=10, verbose=2)\n",
    "grid_search.fit(X_train_tfidf.multiply(r), y_train[c].values)"
   ]
  },
  {
   "cell_type": "code",
   "execution_count": null,
   "metadata": {},
   "outputs": [],
   "source": [
    "saga_search = GridSearchCV(lr, saga_params, scoring='neg_log_loss', cv=10, verbose=1)\n",
    "saga_search.fit(X_train_tfidf.multiply(r), y_train[c].values)"
   ]
  },
  {
   "cell_type": "code",
   "execution_count": null,
   "metadata": {},
   "outputs": [],
   "source": [
    "print saga_search.best_score_\n",
    "print log_loss(y_test[c], saga_search.best_estimator_.predict_proba(X_test_tfidf.multiply(r))[:,1])\n",
    "print saga_search.best_params_"
   ]
  },
  {
   "cell_type": "code",
   "execution_count": null,
   "metadata": {},
   "outputs": [],
   "source": [
    "best_lin_params = {}\n",
    "best_score = {}\n",
    "test_score = {}\n",
    "for c in classes:\n",
    "    print 'Training {}'.format(c)\n",
    "    t = time.time()\n",
    "    y_pos = y_train[y_train[c] == 1][c].values\n",
    "    y_neg = y_train[y_train[c] == 0][c].values\n",
    "    r = get_r(X_train_tfidf, y_pos, y_neg)\n",
    "    clf = GridSearchCV(lr, search_params, scoring='neg_log_loss', cv=10)\n",
    "    clf.fit(X_train_tfidf.multiply(r), y_train[c].values)\n",
    "    best_lin_params[c] = clf.best_params_\n",
    "    best_score[c] = clf.best_score_\n",
    "    test_score[c] = log_loss(y_test[c].values, clf.best_estimator_.predict_proba(X_test_tfidf.multiply(r))[:,1])\n",
    "    print 'Took {} seconds'.format(time.time() - t)"
   ]
  },
  {
   "cell_type": "code",
   "execution_count": null,
   "metadata": {},
   "outputs": [],
   "source": [
    "best_lin_params"
   ]
  },
  {
   "cell_type": "code",
   "execution_count": null,
   "metadata": {},
   "outputs": [],
   "source": [
    "np.mean(test_score.values())"
   ]
  },
  {
   "cell_type": "code",
   "execution_count": null,
   "metadata": {},
   "outputs": [],
   "source": [
    "np.mean(best_score.values())"
   ]
  },
  {
   "cell_type": "code",
   "execution_count": null,
   "metadata": {},
   "outputs": [],
   "source": [
    "sag_params = {\n",
    "    'tol': [1e-3, 1e-4],\n",
    "    'C': [4., 6., 8.],\n",
    "    'solver': ['sag'],\n",
    "    'n_jobs': [-1]\n",
    "}"
   ]
  },
  {
   "cell_type": "code",
   "execution_count": null,
   "metadata": {},
   "outputs": [],
   "source": [
    "best_sag_params = {}\n",
    "best_sag_score = {}\n",
    "test_sag_score = {}\n",
    "for c in classes:\n",
    "    print 'Training {}'.format(c)\n",
    "    t = time.time()\n",
    "    y_pos = y_train[y_train[c] == 1][c].values\n",
    "    y_neg = y_train[y_train[c] == 0][c].values\n",
    "    r = get_r(X_train_tfidf, y_pos, y_neg)\n",
    "    clf = GridSearchCV(lr, search_params, scoring='neg_log_loss', cv=10)\n",
    "    clf.fit(X_train_tfidf.multiply(r), y_train[c].values)\n",
    "    best_sag_params[c] = clf.best_params_\n",
    "    best_sag_score[c] = clf.best_score_\n",
    "    test_sag_score[c] = log_loss(y_test[c].values, clf.best_estimator_.predict_proba(X_test_tfidf.multiply(r))[:,1])\n",
    "    print 'Took {} seconds'.format(time.time() - t)"
   ]
  },
  {
   "cell_type": "code",
   "execution_count": null,
   "metadata": {},
   "outputs": [],
   "source": [
    "best_sag_params"
   ]
  },
  {
   "cell_type": "code",
   "execution_count": null,
   "metadata": {},
   "outputs": [],
   "source": [
    "best_sag_score"
   ]
  },
  {
   "cell_type": "code",
   "execution_count": null,
   "metadata": {},
   "outputs": [],
   "source": [
    "np.mean(best_sag_score.values())"
   ]
  },
  {
   "cell_type": "code",
   "execution_count": null,
   "metadata": {},
   "outputs": [],
   "source": [
    "np.mean(test_sag_score.values())"
   ]
  },
  {
   "cell_type": "code",
   "execution_count": null,
   "metadata": {},
   "outputs": [],
   "source": [
    "pred_lr = grid_search.best_estimator_.predict_proba(X_test_tfidf.multiply(r))[:,1]"
   ]
  },
  {
   "cell_type": "code",
   "execution_count": null,
   "metadata": {},
   "outputs": [],
   "source": [
    "print 'Log loss NBLR: {}'.format(log_loss(y_test[c], pred_lr))"
   ]
  },
  {
   "cell_type": "code",
   "execution_count": null,
   "metadata": {},
   "outputs": [],
   "source": [
    "confusion_matrix(y_test[c], [1 if p > 0.5 else 0 for p in pred_lr])"
   ]
  }
 ],
 "metadata": {
  "kernelspec": {
   "display_name": "Python 2",
   "language": "python",
   "name": "python2"
  },
  "language_info": {
   "codemirror_mode": {
    "name": "ipython",
    "version": 2
   },
   "file_extension": ".py",
   "mimetype": "text/x-python",
   "name": "python",
   "nbconvert_exporter": "python",
   "pygments_lexer": "ipython2",
   "version": "2.7.12"
  }
 },
 "nbformat": 4,
 "nbformat_minor": 2
}
